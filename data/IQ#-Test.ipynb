{
 "cells": [
  {
   "cell_type": "code",
   "execution_count": 1,
   "metadata": {},
   "outputs": [
    {
     "name": "stderr",
     "output_type": "stream",
     "text": [
      "/snippet_.qs(1,8): error QS3035: Unexpected code fragment.\n",
      "/snippet_.qs(1,1): error QS3036: An expression used as a statement must be a call expression.\n",
      "/snippet_.qs(2,6): error QS3035: Unexpected code fragment.\n",
      "/snippet_.qs(2,1): error QS3036: An expression used as a statement must be a call expression.\n"
     ]
    }
   ],
   "source": [
    "import qsharp;\n",
    "from Qrng import SampleQuantumRandomNumberGenerator"
   ]
  },
  {
   "cell_type": "code",
   "execution_count": 2,
   "metadata": {},
   "outputs": [
    {
     "name": "stdout",
     "output_type": "stream",
     "text": [
      "0\n"
     ]
    }
   ],
   "source": [
    "print(SampleQuantumRandomNumberGenerator.simulate())"
   ]
  },
  {
   "cell_type": "code",
   "execution_count": null,
   "metadata": {},
   "outputs": [],
   "source": []
  }
 ],
 "metadata": {
  "kernelspec": {
   "display_name": "Python [conda env:qsharp-env]",
   "language": "python",
   "name": "conda-env-qsharp-env-py"
  },
  "language_info": {
   "file_extension": ".qs",
   "mimetype": "text/x-qsharp",
   "name": "qsharp",
   "version": "0.12"
  }
 },
 "nbformat": 4,
 "nbformat_minor": 4
}
